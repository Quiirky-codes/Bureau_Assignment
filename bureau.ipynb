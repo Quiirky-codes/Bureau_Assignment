{
  "nbformat": 4,
  "nbformat_minor": 0,
  "metadata": {
    "colab": {
      "provenance": []
    },
    "kernelspec": {
      "name": "python3",
      "display_name": "Python 3"
    },
    "language_info": {
      "name": "python"
    }
  },
  "cells": [
    {
      "cell_type": "code",
      "execution_count": 2,
      "metadata": {
        "id": "GdfhJfSmQ56w"
      },
      "outputs": [],
      "source": [
        "import pandas as pd\n",
        "import numpy as np\n",
        "import matplotlib.pyplot as plt\n",
        "import seaborn as sns\n",
        "\n",
        "from sklearn.model_selection import train_test_split, GridSearchCV\n",
        "from sklearn.preprocessing import StandardScaler, LabelEncoder\n",
        "from sklearn.impute import SimpleImputer\n",
        "from sklearn.ensemble import RandomForestClassifier\n",
        "from sklearn.preprocessing import OrdinalEncoder\n",
        "from sklearn.metrics import classification_report, accuracy_score, confusion_matrix, roc_auc_score\n",
        "\n",
        "from sklearn.linear_model import LogisticRegression\n",
        "from xgboost import XGBClassifier #Using XGBOOST CLASSIFIER\n"
      ]
    },
    {
      "cell_type": "code",
      "source": [
        "# Loading the given datasets\n",
        "train_data = pd.read_csv('/content/Assignment_Train.csv')\n",
        "test_data = pd.read_csv('/content/Assignment_Test.csv')\n",
        "feature_dict = pd.read_excel('/content/Assignment_FeatureDictionary.xlsx')\n",
        "\n",
        "# Displays the first rows of the dataset\n",
        "print(train_data.head())\n",
        "print(test_data.head())\n",
        "print(feature_dict.head())  # This will give an idea about the features and descriptions\n"
      ],
      "metadata": {
        "colab": {
          "base_uri": "https://localhost:8080/"
        },
        "id": "CqUnqCk3Rkcw",
        "outputId": "83c9608e-8342-4ad1-e97f-50d05844af07"
      },
      "execution_count": 4,
      "outputs": [
        {
          "output_type": "stream",
          "name": "stdout",
          "text": [
            "   DEALER ID APPLICATION LOGIN DATE HDB BRANCH NAME HDB BRANCH STATE  \\\n",
            "0     106989             07/20/2022        DELHI-SF            DELHI   \n",
            "1     108975             07/28/2022        PATNA-SF            BIHAR   \n",
            "2     111004             07/15/2022   DARJEELING-SF      WEST BENGAL   \n",
            "3     192020               07/04/22   SAHARANPUR-SF    UTTAR PRADESH   \n",
            "4      55095             07/15/2022       MODASA-SF          GUJARAT   \n",
            "\n",
            "  FIRST NAME MIDDLE NAME  LAST NAME      mobile AADHAR VERIFIED Cibil Score  \\\n",
            "0      SUNIL         NaN    CHANDER  9210574080              NO         726   \n",
            "1      AMRIT         NaN      KUMAR  8877987018              NO         NaN   \n",
            "2    ANIMESH         NaN      THAPA  8910862135              NO         737   \n",
            "3     ADITYA         NaN      SINGH  9758428017              NO         713   \n",
            "4     PARMAR  HARESHBHAI  AMRUTBHAI  9687028486              NO         669   \n",
            "\n",
            "   ...  Phone Social Premium.shaadi Phone Social Premium.skype  \\\n",
            "0  ...                          0.0                        0.0   \n",
            "1  ...                          0.0                        0.0   \n",
            "2  ...                          0.0                        0.0   \n",
            "3  ...                          0.0                        0.0   \n",
            "4  ...                          0.0                        0.0   \n",
            "\n",
            "   Phone Social Premium.toi Phone Social Premium.whatsapp  \\\n",
            "0                       1.0                           NaN   \n",
            "1                       0.0                           NaN   \n",
            "2                       0.0                           NaN   \n",
            "3                       1.0                           NaN   \n",
            "4                       1.0                           NaN   \n",
            "\n",
            "   Phone Social Premium.yatra  Phone Social Premium.zoho phone_digitalage  \\\n",
            "0                         NaN                        0.0           5324.0   \n",
            "1                         NaN                        0.0           1998.0   \n",
            "2                         NaN                        0.0             -1.0   \n",
            "3                         NaN                        0.0           1998.0   \n",
            "4                         NaN                        0.0           1998.0   \n",
            "\n",
            "  phone_nameMatchScore phone_phoneFootprintStrengthOverall Application Status  \n",
            "0            67.222222                                High           APPROVED  \n",
            "1           100.000000                                High           APPROVED  \n",
            "2            -1.000000                                 Low           APPROVED  \n",
            "3            72.777778                                High           APPROVED  \n",
            "4            68.095238                                High           DECLINED  \n",
            "\n",
            "[5 rows x 55 columns]\n",
            "                   UID  DEALER ID APPLICATION LOGIN DATE HDB BRANCH NAME  \\\n",
            "0  1844045271814558464     105615               07/12/22        HUBLI-SF   \n",
            "1  1840349097823778816      91593             07/14/2022        SATNA-SF   \n",
            "2  1488102613362294272      74152               07/07/22      LUCKNOW-SF   \n",
            "3   555529923942874624     110164             07/13/2022       KOLLAM-SF   \n",
            "4  1010213070486150912     113037               07/08/22         PURI-SF   \n",
            "\n",
            "  HDB BRANCH STATE FIRST NAME MIDDLE NAME   LAST NAME      mobile  \\\n",
            "0              NaN  VENUGOPAL           H  BHARADHVAJ  7019759674   \n",
            "1   MADHYA PRADESH   SHIVDHAR         NaN   CHAUDHARY  7697884828   \n",
            "2    UTTAR PRADESH     MANISH         NaN       VERMA  8840079825   \n",
            "3           KERALA      DEEPU  RAVEENDRAN  RAVEENDRAN  8089276854   \n",
            "4           ORISSA     AKASHA         NaN     PRADHAN  9337511958   \n",
            "\n",
            "  AADHAR VERIFIED  ... Phone Social Premium.rummycircle  \\\n",
            "0              NO  ...                              NaN   \n",
            "1              NO  ...                              NaN   \n",
            "2              NO  ...                              NaN   \n",
            "3              NO  ...                              NaN   \n",
            "4              NO  ...                              NaN   \n",
            "\n",
            "   Phone Social Premium.shaadi Phone Social Premium.skype  \\\n",
            "0                          0.0                        0.0   \n",
            "1                          0.0                        0.0   \n",
            "2                          0.0                        1.0   \n",
            "3                          0.0                        0.0   \n",
            "4                          0.0                        0.0   \n",
            "\n",
            "   Phone Social Premium.toi Phone Social Premium.whatsapp  \\\n",
            "0                       0.0                           0.0   \n",
            "1                       NaN                           0.0   \n",
            "2                       0.0                           1.0   \n",
            "3                       0.0                           NaN   \n",
            "4                       0.0                           NaN   \n",
            "\n",
            "   Phone Social Premium.yatra  Phone Social Premium.zoho phone_digitalage  \\\n",
            "0                         NaN                        0.0              676   \n",
            "1                         NaN                        0.0              897   \n",
            "2                         NaN                        0.0              839   \n",
            "3                         NaN                        0.0             2050   \n",
            "4                         NaN                        0.0               -1   \n",
            "\n",
            "  phone_nameMatchScore phone_phoneFootprintStrengthOverall  \n",
            "0                100.0                              Medium  \n",
            "1                 -1.0                                 Low  \n",
            "2                100.0                              Medium  \n",
            "3                 -1.0                                 Low  \n",
            "4                 -1.0                            Very Low  \n",
            "\n",
            "[5 rows x 55 columns]\n",
            "              COLUMN NAME                 COLUMN DESCRIPTION\n",
            "0               DEALER ID    Unique identifier of the dealer\n",
            "1  APPLICATION LOGIN DATE  Date of submission of application\n",
            "2         HDB BRANCH NAME                Bank branch details\n",
            "3        HDB BRANCH STATE                                NaN\n",
            "4              FIRST NAME                  Submitted Details\n"
          ]
        }
      ]
    },
    {
      "cell_type": "code",
      "source": [
        "target_column = 'Application Status'\n",
        "uid_column = 'UID'"
      ],
      "metadata": {
        "id": "CnB5774Ha704"
      },
      "execution_count": 6,
      "outputs": []
    },
    {
      "cell_type": "code",
      "source": [
        "# Preprocessing: Handling missing values, encoding categorical data and scaling numerical data\n",
        "cat_cols = [col for col in train_data.columns if train_data[col].dtype == 'object' and col != target_column]\n",
        "num_cols = [col for col in train_data.columns if train_data[col].dtype != 'object' and col != target_column]# Separating categorical and numerical features"
      ],
      "metadata": {
        "id": "wxsXBQeuSEHy"
      },
      "execution_count": 7,
      "outputs": []
    },
    {
      "cell_type": "code",
      "source": [
        "# Handling missing categorical data\n",
        "ordinal_encoder = OrdinalEncoder(handle_unknown='use_encoded_value', unknown_value=-1)\n",
        "train_data[cat_cols] = ordinal_encoder.fit_transform(train_data[cat_cols])\n",
        "test_data[cat_cols] = ordinal_encoder.transform(test_data[cat_cols])"
      ],
      "metadata": {
        "id": "XESyCygvbOOD"
      },
      "execution_count": 8,
      "outputs": []
    },
    {
      "cell_type": "code",
      "source": [
        "# Handling missing numerical data by filling with median\n",
        "train_data[num_cols] = train_data[num_cols].fillna(train_data[num_cols].median())\n",
        "test_data[num_cols] = test_data[num_cols].fillna(test_data[num_cols].median())"
      ],
      "metadata": {
        "id": "K8dkoEWicBPV"
      },
      "execution_count": 9,
      "outputs": []
    },
    {
      "cell_type": "code",
      "source": [
        "# Feature scaling for numerical columns\n",
        "scaler = StandardScaler()\n",
        "train_data[num_cols] = scaler.fit_transform(train_data[num_cols])\n",
        "test_data[num_cols] = scaler.transform(test_data[num_cols])"
      ],
      "metadata": {
        "id": "y4x-LGKQcDIB"
      },
      "execution_count": 10,
      "outputs": []
    },
    {
      "cell_type": "code",
      "source": [
        "print(train_data.columns)\n",
        "print(test_data.columns)"
      ],
      "metadata": {
        "colab": {
          "base_uri": "https://localhost:8080/"
        },
        "id": "9HvA9Kk9cuze",
        "outputId": "294d9623-84d8-4dc4-8a9c-9c3f46e333b7"
      },
      "execution_count": 11,
      "outputs": [
        {
          "output_type": "stream",
          "name": "stdout",
          "text": [
            "Index(['DEALER ID', 'APPLICATION LOGIN DATE', 'HDB BRANCH NAME',\n",
            "       'HDB BRANCH STATE', 'FIRST NAME', 'MIDDLE NAME', 'LAST NAME', 'mobile',\n",
            "       'AADHAR VERIFIED', 'Cibil Score', 'MOBILE VERIFICATION', 'DEALER NAME',\n",
            "       'TOTAL ASSET COST', 'ASSET CTG', 'ASSET MODEL NO', 'APPLIED AMOUNT',\n",
            "       'PRIMARY ASSET MAKE', 'Primary Asset Model No',\n",
            "       'Personal Email Address', 'MARITAL STATUS', 'GENDER', 'DOB', 'AGE',\n",
            "       'ADDRESS TYPE', 'EMPLOY CONSTITUTION', 'EMPLOYER NAME', 'EMPLOYER TYPE',\n",
            "       'Pan Name', 'name', 'vpa', 'upi_name', 'Phone Social Premium.a23games',\n",
            "       'Phone Social Premium.amazon', 'Phone Social Premium.byjus',\n",
            "       'Phone Social Premium.flipkart', 'Phone Social Premium.housing',\n",
            "       'Phone Social Premium.indiamart', 'Phone Social Premium.instagram',\n",
            "       'Phone Social Premium.isWABusiness',\n",
            "       'Phone Social Premium.jeevansaathi', 'Phone Social Premium.jiomart',\n",
            "       'Phone Social Premium.microsoft', 'Phone Social Premium.my11',\n",
            "       'Phone Social Premium.paytm', 'Phone Social Premium.rummycircle',\n",
            "       'Phone Social Premium.shaadi', 'Phone Social Premium.skype',\n",
            "       'Phone Social Premium.toi', 'Phone Social Premium.whatsapp',\n",
            "       'Phone Social Premium.yatra', 'Phone Social Premium.zoho',\n",
            "       'phone_digitalage', 'phone_nameMatchScore',\n",
            "       'phone_phoneFootprintStrengthOverall', 'Application Status'],\n",
            "      dtype='object')\n",
            "Index(['UID', 'DEALER ID', 'APPLICATION LOGIN DATE', 'HDB BRANCH NAME',\n",
            "       'HDB BRANCH STATE', 'FIRST NAME', 'MIDDLE NAME', 'LAST NAME', 'mobile',\n",
            "       'AADHAR VERIFIED', 'Cibil Score', 'MOBILE VERIFICATION', 'DEALER NAME',\n",
            "       'TOTAL ASSET COST', 'ASSET CTG', 'ASSET MODEL NO', 'APPLIED AMOUNT',\n",
            "       'PRIMARY ASSET MAKE', 'Primary Asset Model No',\n",
            "       'Personal Email Address', 'MARITAL STATUS', 'GENDER', 'DOB', 'AGE',\n",
            "       'ADDRESS TYPE', 'EMPLOY CONSTITUTION', 'EMPLOYER NAME', 'EMPLOYER TYPE',\n",
            "       'Pan Name', 'name', 'vpa', 'upi_name', 'Phone Social Premium.a23games',\n",
            "       'Phone Social Premium.amazon', 'Phone Social Premium.byjus',\n",
            "       'Phone Social Premium.flipkart', 'Phone Social Premium.housing',\n",
            "       'Phone Social Premium.indiamart', 'Phone Social Premium.instagram',\n",
            "       'Phone Social Premium.isWABusiness',\n",
            "       'Phone Social Premium.jeevansaathi', 'Phone Social Premium.jiomart',\n",
            "       'Phone Social Premium.microsoft', 'Phone Social Premium.my11',\n",
            "       'Phone Social Premium.paytm', 'Phone Social Premium.rummycircle',\n",
            "       'Phone Social Premium.shaadi', 'Phone Social Premium.skype',\n",
            "       'Phone Social Premium.toi', 'Phone Social Premium.whatsapp',\n",
            "       'Phone Social Premium.yatra', 'Phone Social Premium.zoho',\n",
            "       'phone_digitalage', 'phone_nameMatchScore',\n",
            "       'phone_phoneFootprintStrengthOverall'],\n",
            "      dtype='object')\n"
          ]
        }
      ]
    },
    {
      "cell_type": "code",
      "source": [
        "X = train_data.drop(columns=[target_column])\n",
        "y = train_data[target_column]\n",
        "\n",
        "# For the test data, drop the 'UID' column as it's not needed for prediction\n",
        "test_data_processed = test_data.drop(columns=['UID'])"
      ],
      "metadata": {
        "id": "dFDSDnY4cGWv"
      },
      "execution_count": 12,
      "outputs": []
    },
    {
      "cell_type": "code",
      "source": [
        "# Split the data into training and validation sets\n",
        "X_train, X_val, y_train, y_val = train_test_split(X, y, test_size=0.2, random_state=42)"
      ],
      "metadata": {
        "id": "5gQn1B10eQza"
      },
      "execution_count": 13,
      "outputs": []
    },
    {
      "cell_type": "code",
      "source": [
        "from sklearn.preprocessing import LabelEncoder\n",
        "\n",
        "# Encode the target variable 'Application Status' into 0 and 1\n",
        "label_encoder = LabelEncoder()\n",
        "y_train_encoded = label_encoder.fit_transform(y_train)\n",
        "y_val_encoded = label_encoder.transform(y_val)"
      ],
      "metadata": {
        "id": "TBIdSBD3ebLH"
      },
      "execution_count": 14,
      "outputs": []
    },
    {
      "cell_type": "code",
      "source": [
        "xgb_model = XGBClassifier()\n",
        "xgb_model.fit(X_train, y_train_encoded)\n"
      ],
      "metadata": {
        "colab": {
          "base_uri": "https://localhost:8080/",
          "height": 248
        },
        "id": "RajnMVH9e4qP",
        "outputId": "90084e15-7d47-401f-9e2f-95d59b700887"
      },
      "execution_count": 15,
      "outputs": [
        {
          "output_type": "execute_result",
          "data": {
            "text/plain": [
              "XGBClassifier(base_score=None, booster=None, callbacks=None,\n",
              "              colsample_bylevel=None, colsample_bynode=None,\n",
              "              colsample_bytree=None, device=None, early_stopping_rounds=None,\n",
              "              enable_categorical=False, eval_metric=None, feature_types=None,\n",
              "              gamma=None, grow_policy=None, importance_type=None,\n",
              "              interaction_constraints=None, learning_rate=None, max_bin=None,\n",
              "              max_cat_threshold=None, max_cat_to_onehot=None,\n",
              "              max_delta_step=None, max_depth=None, max_leaves=None,\n",
              "              min_child_weight=None, missing=nan, monotone_constraints=None,\n",
              "              multi_strategy=None, n_estimators=None, n_jobs=None,\n",
              "              num_parallel_tree=None, random_state=None, ...)"
            ],
            "text/html": [
              "<style>#sk-container-id-1 {color: black;}#sk-container-id-1 pre{padding: 0;}#sk-container-id-1 div.sk-toggleable {background-color: white;}#sk-container-id-1 label.sk-toggleable__label {cursor: pointer;display: block;width: 100%;margin-bottom: 0;padding: 0.3em;box-sizing: border-box;text-align: center;}#sk-container-id-1 label.sk-toggleable__label-arrow:before {content: \"▸\";float: left;margin-right: 0.25em;color: #696969;}#sk-container-id-1 label.sk-toggleable__label-arrow:hover:before {color: black;}#sk-container-id-1 div.sk-estimator:hover label.sk-toggleable__label-arrow:before {color: black;}#sk-container-id-1 div.sk-toggleable__content {max-height: 0;max-width: 0;overflow: hidden;text-align: left;background-color: #f0f8ff;}#sk-container-id-1 div.sk-toggleable__content pre {margin: 0.2em;color: black;border-radius: 0.25em;background-color: #f0f8ff;}#sk-container-id-1 input.sk-toggleable__control:checked~div.sk-toggleable__content {max-height: 200px;max-width: 100%;overflow: auto;}#sk-container-id-1 input.sk-toggleable__control:checked~label.sk-toggleable__label-arrow:before {content: \"▾\";}#sk-container-id-1 div.sk-estimator input.sk-toggleable__control:checked~label.sk-toggleable__label {background-color: #d4ebff;}#sk-container-id-1 div.sk-label input.sk-toggleable__control:checked~label.sk-toggleable__label {background-color: #d4ebff;}#sk-container-id-1 input.sk-hidden--visually {border: 0;clip: rect(1px 1px 1px 1px);clip: rect(1px, 1px, 1px, 1px);height: 1px;margin: -1px;overflow: hidden;padding: 0;position: absolute;width: 1px;}#sk-container-id-1 div.sk-estimator {font-family: monospace;background-color: #f0f8ff;border: 1px dotted black;border-radius: 0.25em;box-sizing: border-box;margin-bottom: 0.5em;}#sk-container-id-1 div.sk-estimator:hover {background-color: #d4ebff;}#sk-container-id-1 div.sk-parallel-item::after {content: \"\";width: 100%;border-bottom: 1px solid gray;flex-grow: 1;}#sk-container-id-1 div.sk-label:hover label.sk-toggleable__label {background-color: #d4ebff;}#sk-container-id-1 div.sk-serial::before {content: \"\";position: absolute;border-left: 1px solid gray;box-sizing: border-box;top: 0;bottom: 0;left: 50%;z-index: 0;}#sk-container-id-1 div.sk-serial {display: flex;flex-direction: column;align-items: center;background-color: white;padding-right: 0.2em;padding-left: 0.2em;position: relative;}#sk-container-id-1 div.sk-item {position: relative;z-index: 1;}#sk-container-id-1 div.sk-parallel {display: flex;align-items: stretch;justify-content: center;background-color: white;position: relative;}#sk-container-id-1 div.sk-item::before, #sk-container-id-1 div.sk-parallel-item::before {content: \"\";position: absolute;border-left: 1px solid gray;box-sizing: border-box;top: 0;bottom: 0;left: 50%;z-index: -1;}#sk-container-id-1 div.sk-parallel-item {display: flex;flex-direction: column;z-index: 1;position: relative;background-color: white;}#sk-container-id-1 div.sk-parallel-item:first-child::after {align-self: flex-end;width: 50%;}#sk-container-id-1 div.sk-parallel-item:last-child::after {align-self: flex-start;width: 50%;}#sk-container-id-1 div.sk-parallel-item:only-child::after {width: 0;}#sk-container-id-1 div.sk-dashed-wrapped {border: 1px dashed gray;margin: 0 0.4em 0.5em 0.4em;box-sizing: border-box;padding-bottom: 0.4em;background-color: white;}#sk-container-id-1 div.sk-label label {font-family: monospace;font-weight: bold;display: inline-block;line-height: 1.2em;}#sk-container-id-1 div.sk-label-container {text-align: center;}#sk-container-id-1 div.sk-container {/* jupyter's `normalize.less` sets `[hidden] { display: none; }` but bootstrap.min.css set `[hidden] { display: none !important; }` so we also need the `!important` here to be able to override the default hidden behavior on the sphinx rendered scikit-learn.org. See: https://github.com/scikit-learn/scikit-learn/issues/21755 */display: inline-block !important;position: relative;}#sk-container-id-1 div.sk-text-repr-fallback {display: none;}</style><div id=\"sk-container-id-1\" class=\"sk-top-container\"><div class=\"sk-text-repr-fallback\"><pre>XGBClassifier(base_score=None, booster=None, callbacks=None,\n",
              "              colsample_bylevel=None, colsample_bynode=None,\n",
              "              colsample_bytree=None, device=None, early_stopping_rounds=None,\n",
              "              enable_categorical=False, eval_metric=None, feature_types=None,\n",
              "              gamma=None, grow_policy=None, importance_type=None,\n",
              "              interaction_constraints=None, learning_rate=None, max_bin=None,\n",
              "              max_cat_threshold=None, max_cat_to_onehot=None,\n",
              "              max_delta_step=None, max_depth=None, max_leaves=None,\n",
              "              min_child_weight=None, missing=nan, monotone_constraints=None,\n",
              "              multi_strategy=None, n_estimators=None, n_jobs=None,\n",
              "              num_parallel_tree=None, random_state=None, ...)</pre><b>In a Jupyter environment, please rerun this cell to show the HTML representation or trust the notebook. <br />On GitHub, the HTML representation is unable to render, please try loading this page with nbviewer.org.</b></div><div class=\"sk-container\" hidden><div class=\"sk-item\"><div class=\"sk-estimator sk-toggleable\"><input class=\"sk-toggleable__control sk-hidden--visually\" id=\"sk-estimator-id-1\" type=\"checkbox\" checked><label for=\"sk-estimator-id-1\" class=\"sk-toggleable__label sk-toggleable__label-arrow\">XGBClassifier</label><div class=\"sk-toggleable__content\"><pre>XGBClassifier(base_score=None, booster=None, callbacks=None,\n",
              "              colsample_bylevel=None, colsample_bynode=None,\n",
              "              colsample_bytree=None, device=None, early_stopping_rounds=None,\n",
              "              enable_categorical=False, eval_metric=None, feature_types=None,\n",
              "              gamma=None, grow_policy=None, importance_type=None,\n",
              "              interaction_constraints=None, learning_rate=None, max_bin=None,\n",
              "              max_cat_threshold=None, max_cat_to_onehot=None,\n",
              "              max_delta_step=None, max_depth=None, max_leaves=None,\n",
              "              min_child_weight=None, missing=nan, monotone_constraints=None,\n",
              "              multi_strategy=None, n_estimators=None, n_jobs=None,\n",
              "              num_parallel_tree=None, random_state=None, ...)</pre></div></div></div></div></div>"
            ]
          },
          "metadata": {},
          "execution_count": 15
        }
      ]
    },
    {
      "cell_type": "code",
      "source": [
        "# Evaluate on validation set\n",
        "y_val_pred = xgb_model.predict(X_val)\n",
        "\n",
        "# Use the encoded version of y_val for accuracy and report calculation\n",
        "accuracy = accuracy_score(y_val_encoded, y_val_pred)\n",
        "classification_report_xgb = classification_report(y_val_encoded, y_val_pred)\n",
        "confusion_matrix_xgb = confusion_matrix(y_val_encoded, y_val_pred)"
      ],
      "metadata": {
        "id": "AU_-B0ZCfAWr"
      },
      "execution_count": 16,
      "outputs": []
    },
    {
      "cell_type": "code",
      "source": [
        "print(f\"Validation Accuracy: {accuracy}\")\n",
        "print(\"Classification Report:\\n\", classification_report_xgb)\n",
        "print(\"Confusion Matrix:\\n\", confusion_matrix_xgb)"
      ],
      "metadata": {
        "colab": {
          "base_uri": "https://localhost:8080/"
        },
        "id": "LJwRY9MKfUNP",
        "outputId": "be1da131-921e-420d-a96c-74182cdd8e3f"
      },
      "execution_count": 17,
      "outputs": [
        {
          "output_type": "stream",
          "name": "stdout",
          "text": [
            "Validation Accuracy: 0.894\n",
            "Classification Report:\n",
            "               precision    recall  f1-score   support\n",
            "\n",
            "           0       0.92      0.92      0.92      1327\n",
            "           1       0.85      0.84      0.84       673\n",
            "\n",
            "    accuracy                           0.89      2000\n",
            "   macro avg       0.88      0.88      0.88      2000\n",
            "weighted avg       0.89      0.89      0.89      2000\n",
            "\n",
            "Confusion Matrix:\n",
            " [[1226  101]\n",
            " [ 111  562]]\n"
          ]
        }
      ]
    },
    {
      "cell_type": "code",
      "source": [
        "# Predicting the test set and decoding predictions\n",
        "test_predictions = xgb_model.predict(test_data_processed)\n",
        "test_predictions_decoded = label_encoder.inverse_transform(test_predictions)"
      ],
      "metadata": {
        "id": "KwC8UNd7flQi"
      },
      "execution_count": 18,
      "outputs": []
    },
    {
      "cell_type": "code",
      "source": [
        "# Save predictions to a CSV\n",
        "output = pd.DataFrame({\n",
        "    'UID': test_data['UID'],\n",
        "    'Application_Status': test_predictions\n",
        "})\n",
        "output.to_csv('/content/predictions.csv', index=False)"
      ],
      "metadata": {
        "id": "bTtWnuoofyHu"
      },
      "execution_count": 19,
      "outputs": []
    },
    {
      "cell_type": "code",
      "source": [
        "#Distribution of Loan Application Status (Accepted/Rejected)\n",
        "plt.figure(figsize=(6, 4))\n",
        "sns.countplot(x='Application Status', data=train_data, palette='viridis')\n",
        "plt.title('Distribution of Loan Application Status')\n",
        "plt.xlabel('Application Status')\n",
        "plt.ylabel('Count')\n",
        "plt.show()"
      ],
      "metadata": {
        "colab": {
          "base_uri": "https://localhost:8080/",
          "height": 517
        },
        "id": "Yp1BeIRDmaSI",
        "outputId": "8979a7e2-e877-45f1-8294-d4b53d5e33ba"
      },
      "execution_count": 22,
      "outputs": [
        {
          "output_type": "stream",
          "name": "stderr",
          "text": [
            "<ipython-input-22-4883defef805>:3: FutureWarning: \n",
            "\n",
            "Passing `palette` without assigning `hue` is deprecated and will be removed in v0.14.0. Assign the `x` variable to `hue` and set `legend=False` for the same effect.\n",
            "\n",
            "  sns.countplot(x='Application Status', data=train_data, palette='viridis')\n"
          ]
        },
        {
          "output_type": "display_data",
          "data": {
            "text/plain": [
              "<Figure size 600x400 with 1 Axes>"
            ],
            "image/png": "[encoded data removed]"
          },
          "metadata": {}
        }
      ]
    }
  ]
}